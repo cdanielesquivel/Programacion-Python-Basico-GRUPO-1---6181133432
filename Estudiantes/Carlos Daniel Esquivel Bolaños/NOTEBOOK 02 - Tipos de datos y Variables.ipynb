{
 "cells": [
  {
   "cell_type": "markdown",
   "metadata": {},
   "source": [
    "# NOTEBOOK 02 - Tipos de datos y estructuras de datos\n",
    "## Fundamentos de Programación: Tipos de Datos, Variables y Operaciones Básicas\n",
    "### Nombre del estudiante: Carlos Daniel Esquivel Bolaños\n",
    "\n",
    "---\n",
    "\n",
    "## 1. Tipos de Datos en Python\n",
    "\n",
    "### Teoría\n",
    "Los tipos de datos en Python determinan el tipo de valor que se puede almacenar y manipular. Los más comunes son:\n",
    "\n",
    "- **Enteros (`int`)**: Números sin parte decimal.\n",
    "- **Flotantes (`float`)**: Números con parte decimal.\n",
    "- **Cadenas de texto (`str`)**: Secuencias de caracteres.\n",
    "- **Booleanos (`bool`)**: Valores lógicos que pueden ser `True` o `False`.\n",
    "\n",
    "#### Comparaciones:\n",
    "- Los enteros representan números sin decimales, mientras que los flotantes incluyen decimales.\n",
    "- Las cadenas de texto permiten almacenar y manipular texto.\n",
    "- Los booleanos permiten realizar comparaciones lógicas en el código.\n",
    "\n",
    "### Ejemplos\n",
    "```python\n",
    "# Ejemplos de tipos de datos\n",
    "numero_entero = 10  # Tipo entero\n",
    "numero_flotante = 10.5  # Tipo flotante\n",
    "cadena_texto = \"Hola, Python!\"  # Tipo cadena\n",
    "valor_logico = True  # Tipo booleano\n",
    "\n",
    "# Imprimir los tipos de cada variable\n",
    "print(type(numero_entero))\n",
    "print(type(numero_flotante))\n",
    "print(type(cadena_texto))\n",
    "print(type(valor_logico))\n",
    "```\n",
    "\n",
    "## Ejercicios \n",
    "\n",
    "1. Declara una variable de tipo entero y asigna el valor *25*. Luego, imprime su tipo."
   ]
  },
  {
   "cell_type": "code",
   "execution_count": 5,
   "metadata": {},
   "outputs": [
    {
     "name": "stdout",
     "output_type": "stream",
     "text": [
      "La edad de Juan es: 25\n",
      "<class 'int'>\n"
     ]
    }
   ],
   "source": [
    "#Respuesta\n",
    "edad = 25 #Asignación\n",
    "\n",
    "print(\"La edad de Juan es:\", edad)\n",
    "print(type(edad))"
   ]
  },
  {
   "cell_type": "markdown",
   "metadata": {},
   "source": [
    "2. Declara una variable de tipo flotante con el valor *3.1416*. Imprime su tipo.\n"
   ]
  },
  {
   "cell_type": "code",
   "execution_count": 6,
   "metadata": {},
   "outputs": [
    {
     "name": "stdout",
     "output_type": "stream",
     "text": [
      "<class 'float'>\n"
     ]
    }
   ],
   "source": [
    "#Respuesta\n",
    "PI = 3.1416\n",
    "print(type(PI))"
   ]
  },
  {
   "cell_type": "markdown",
   "metadata": {},
   "source": [
    "3. Crea una variable es_estudiante que almacene un valor booleano indicando si eres estudiante."
   ]
  },
  {
   "cell_type": "code",
   "execution_count": 7,
   "metadata": {},
   "outputs": [
    {
     "name": "stdout",
     "output_type": "stream",
     "text": [
      "<class 'bool'>\n"
     ]
    }
   ],
   "source": [
    "#Respuesta\n",
    "visible = False\n",
    "print(type(visible))"
   ]
  },
  {
   "cell_type": "markdown",
   "metadata": {},
   "source": [
    "## 2. Variables en Python\n",
    "\n",
    "### Teoría\n",
    "Las variables son espacios de memoria donde almacenamos datos. En Python, no es necesario declarar el tipo de la variable, simplemente se asigna un valor con el símbolo `=`.\n",
    "\n",
    "#### Reglas para nombrar variables:\n",
    "- Deben comenzar con una letra o un guion bajo.\n",
    "- No pueden comenzar con un número.\n",
    "- Solo pueden contener letras, números y guiones bajos.\n",
    "- Son sensibles a mayúsculas y minúsculas (`nombre` y `Nombre` son diferentes).\n",
    "\n",
    "### Ejemplo"
   ]
  },
  {
   "cell_type": "code",
   "execution_count": 8,
   "metadata": {},
   "outputs": [
    {
     "ename": "SyntaxError",
     "evalue": "invalid syntax (2634079195.py, line 11)",
     "output_type": "error",
     "traceback": [
      "\u001b[1;36m  Cell \u001b[1;32mIn[8], line 11\u001b[1;36m\u001b[0m\n\u001b[1;33m    nombre completo = \"Juan\"  # Error: no puede contener espacios\u001b[0m\n\u001b[1;37m           ^\u001b[0m\n\u001b[1;31mSyntaxError\u001b[0m\u001b[1;31m:\u001b[0m invalid syntax\n"
     ]
    }
   ],
   "source": [
    "# Declaración de variables\n",
    "mi_nombre = \"Carlos\"\n",
    "edad = 20\n",
    "\n",
    "# Variables válidas\n",
    "nombre_completo = \"Ana Pérez\"\n",
    "_variable_secreta = 42 # convención para indicar que esa variable es protegida.\n",
    "\n",
    "# Variables inválidas (descomentar para ver los errores)\n",
    "# 2variable = 10  # Error: no puede comenzar con un número\n",
    "# nombre completo = \"Juan\"  # Error: no puede contener espacios"
   ]
  },
  {
   "cell_type": "markdown",
   "metadata": {},
   "source": [
    "## 3. Operaciones Básicas de Entrada y Salida\n",
    "\n",
    "### Teoría\n",
    "Las operaciones de entrada y salida son fundamentales para interactuar con el usuario. En Python, utilizamos la función `input()` para capturar datos del usuario y `print()` para mostrar información en pantalla.\n",
    "\n",
    "### Ejemplos"
   ]
  },
  {
   "cell_type": "code",
   "execution_count": 10,
   "metadata": {},
   "outputs": [
    {
     "name": "stdout",
     "output_type": "stream",
     "text": [
      "Hola abigail, bienvenido a Python!\n",
      "Hola abigail bienvenido a Python!\n"
     ]
    }
   ],
   "source": [
    "# Operación de entrada + Saalida con format\n",
    "nombre = input(\"Ingrese su nombre, por favor: \")\n",
    "\n",
    "# Operación de salida\n",
    "print(f'Hola {nombre}, bienvenido a Python!')\n",
    "\n",
    "print('Hola', nombre, 'bienvenido a Python!')"
   ]
  },
  {
   "cell_type": "markdown",
   "metadata": {},
   "source": [
    "En otros lenguajes, como *Java*, el proceso es similar pero con algunas diferencias en la sintaxis:\n",
    "\n",
    "```Java\n",
    "// Ejemplo en Java\n",
    "import java.util.Scanner;\n",
    "\n",
    "public class EntradaSalida {\n",
    "    public static void main(String[] args) {\n",
    "        Scanner input = new Scanner(System.in);\n",
    "        System.out.print(\"¿Cómo te llamas? \");\n",
    "        String nombre = input.nextLine();\n",
    "        System.out.println(\"Hola, \" + nombre + \"!\");\n",
    "    }\n",
    "}\n",
    "\n",
    "```"
   ]
  },
  {
   "cell_type": "markdown",
   "metadata": {},
   "source": [
    "## 4. Operadores Básicos en Python\n",
    "\n",
    "### Teoría\n",
    "Los operadores en Python nos permiten realizar diversas operaciones con variables y datos. Los más comunes son:\n",
    "\n",
    "- **Operadores matemáticos**: `+`, `-`, `*`, `/`, `//` (división entera), `%` (módulo)\n",
    "- **Operadores de asignación**: `=`, `+=`, `-=`, `*=`, `/=`\n",
    "- **Operadores de comparación**: `==`, `!=`, `<`, `>`, `<=`, `>=`\n",
    "- **Operadores lógicos**: `and`, `or`, `not`\n",
    "\n",
    "### Tabla de Operadores Matemáticos\n",
    "\n",
    "| Operador | Descripción           | Ejemplo           |\n",
    "|----------|-----------------------|-------------------|\n",
    "| `+`      | Suma                  | `5 + 3 = 8`       |\n",
    "| `-`      | Resta                 | `5 - 2 = 3`       |\n",
    "| `*`      | Multiplicación         | `5 * 2 = 10`      |\n",
    "| `/`      | División              | `10 / 2 = 5.0`    |\n",
    "| `//`     | División entera        | `10 // 3 = 3`     |\n",
    "| `%`      | Módulo (resto)         | `10 % 3 = 1`      |\n",
    "\n",
    "### Ejemplos"
   ]
  },
  {
   "cell_type": "markdown",
   "metadata": {},
   "source": [
    "#### Problema 1: Operadores Matemáticos y Comparación en Python\n",
    "\n",
    "Tienes dos variables `a = 10` y `b = 5`. Realiza las siguientes operaciones matemáticas:"
   ]
  },
  {
   "cell_type": "code",
   "execution_count": 14,
   "metadata": {},
   "outputs": [
    {
     "name": "stdout",
     "output_type": "stream",
     "text": [
      "Suma: 15\n",
      "Resta: 5\n",
      "Multiplicar: 50\n",
      "Dividir: 2.0\n"
     ]
    }
   ],
   "source": [
    " # Asignacón de variables\n",
    "a = 10\n",
    "b = 5\n",
    "# Suma y resta\n",
    "print(\"Suma:\", a + b)\n",
    "print(f'Resta: {a - b}')\n",
    "print(f'Multiplicar: {a * b}')\n",
    "print(f'Dividir: {a / b}')"
   ]
  },
  {
   "cell_type": "markdown",
   "metadata": {},
   "source": [
    "#### Problema 2: Comparación de Números\n",
    "Usa los siguientes operadores de comparación para verificar la relación entre a y b. ¿Qué resultado esperas?"
   ]
  },
  {
   "cell_type": "code",
   "execution_count": 20,
   "metadata": {},
   "outputs": [
    {
     "name": "stdout",
     "output_type": "stream",
     "text": [
      "False\n",
      "False\n",
      "True\n",
      "True\n"
     ]
    }
   ],
   "source": [
    "# Operadores de comparación\n",
    "a = 10\n",
    "b = 20\n",
    "\n",
    "# ¿Es a igual a b?\n",
    "print(a == b)\n",
    "\n",
    "# ¿Es a mayor que b?\n",
    "print(a > b) # >=\n",
    "\n",
    "# ¿Es a menor que b?\n",
    "print(a < b) # <=\n",
    "\n",
    "#Diferencia\n",
    "print(a != b)\n"
   ]
  },
  {
   "cell_type": "markdown",
   "metadata": {},
   "source": [
    "### Problema 3: Operadores Lógicos\n",
    "Usa operadores lógicos para combinar condiciones. Resuelve el siguiente problema: ¿Es a mayor que 0 y b menor que 10? ¿Qué pasa si a = -10?"
   ]
  },
  {
   "cell_type": "code",
   "execution_count": 24,
   "metadata": {},
   "outputs": [
    {
     "name": "stdout",
     "output_type": "stream",
     "text": [
      "True\n",
      "False\n",
      "False\n"
     ]
    }
   ],
   "source": [
    "# Operadores lógicos\n",
    "contrasena = True\n",
    "correo = True\n",
    "\n",
    "# ¿Ambas condiciones son verdaderas?\n",
    "print(contrasena == True and correo == True)\n",
    "\n",
    "# ¿Al menos una de las condiciones es verdadera?\n",
    "contrasena = False\n",
    "print(contrasena == True and correo == True)\n",
    "\n",
    "# ¿Es falso que a sea mayor que b?\n",
    "contrasena = False\n",
    "correo = False\n",
    "\n",
    "print(contrasena and correo)"
   ]
  },
  {
   "cell_type": "code",
   "execution_count": 29,
   "metadata": {},
   "outputs": [
    {
     "name": "stdout",
     "output_type": "stream",
     "text": [
      "True\n",
      "True\n",
      "False\n",
      "True\n"
     ]
    }
   ],
   "source": [
    "#or\n",
    "mami = True\n",
    "papi = True\n",
    "print(mami or papi)\n",
    "\n",
    "#Sin permisos de la madre\n",
    "papi = False\n",
    "print(mami or papi)\n",
    "\n",
    "#Sin permisos de la madre o padre\n",
    "mami = False\n",
    "papi = False\n",
    "print(mami or papi)\n",
    "\n",
    "#Negación\n",
    "print(not(mami or papi))"
   ]
  },
  {
   "cell_type": "markdown",
   "metadata": {},
   "source": [
    "### Problema 4: Divisiones y Módulo\n",
    "Prueba las operaciones de división entera y módulo para ver cómo Python maneja los restos de las divisiones."
   ]
  },
  {
   "cell_type": "code",
   "execution_count": null,
   "metadata": {},
   "outputs": [],
   "source": [
    "# División entera y módulo\n"
   ]
  },
  {
   "cell_type": "markdown",
   "metadata": {},
   "source": [
    "### Ejercicio Final:\n",
    "\n",
    "Combina operadores matemáticos, de comparación y lógicos. Escribe un programa que pida al usuario dos números y realice las siguientes tareas:\n",
    "\n",
    "1. Verifique si el primer número es mayor que el segundo.\n",
    "2. Calcule la suma, resta, división y módulo de ambos.\n",
    "3. Determine si la suma de ambos números es mayor que 20 **y** si alguno de los dos es menor que 5."
   ]
  },
  {
   "cell_type": "code",
   "execution_count": null,
   "metadata": {},
   "outputs": [
    {
     "name": "stdout",
     "output_type": "stream",
     "text": [
      "Número 1 es mayor que número 2: True\n",
      "La suma de los es: 21\n",
      "La resta de los es: 13\n",
      "La multiplicación de los es: 68\n",
      "La división de los es: 4.25\n",
      "La módulo de los es: 1\n",
      "True\n"
     ]
    }
   ],
   "source": [
    "#Respuesta\n",
    "numero1 = int(input('Ingrese el primer número: '))\n",
    "numero2 = int(input('Ingrese el segundo número: '))\n",
    "\n",
    "#1. Verifique si el primer número es mayor que el segundo.\n",
    "print(f'Número 1 es mayor que número 2: {numero1 > numero2}')\n",
    "\n",
    "#2. Calcule la suma, resta, división y módulo de ambos.\n",
    "print(f'La suma de los es: {numero1 + numero2}')\n",
    "print(f'La resta de los es: {numero1 - numero2}')\n",
    "print(f'La multiplicación de los es: {numero1 * numero2}')\n",
    "print(f'La división de los es: {numero1 / numero2}')\n",
    "print(f'La módulo de los es: {numero1 % numero2}')\n",
    "\n",
    "#3. Determine si la suma de ambos números es mayor que 20 **y** si alguno de los dos es menor que 5.\n",
    "# 17 y 4\n",
    "#     (      TRUE            )     (          TRUE            )\n",
    "#     (      TRUE            )     (    FALSE   o     TRUE    )\n",
    "print((numero1 + numero2 > 20) and (numero1 < 5 or numero2 < 5))\n"
   ]
  },
  {
   "cell_type": "markdown",
   "metadata": {},
   "source": [
    "# Estructuras de datos elementales\n",
    "\n",
    "# Listas\n",
    "\n",
    "Las listas son uno de los tipos de datos más importantes y versátiles en Python. Son colecciones ordenadas y mutables que pueden almacenar cualquier tipo de dato, desde números y cadenas de texto hasta objetos complejos.\n",
    "\n",
    "**Creación de listas:**\n",
    "\n",
    "Las listas se pueden crear de varias maneras:\n",
    "\n",
    "- **Usando corchetes (**[]**) y separando los elementos por comas:**"
   ]
  },
  {
   "cell_type": "code",
   "execution_count": 7,
   "metadata": {},
   "outputs": [
    {
     "name": "stdout",
     "output_type": "stream",
     "text": [
      "['Conejo', 'Perro', 'Gato']\n",
      "['Conejo', 'Perro', 'Gato', 10, True, 100.5]\n"
     ]
    }
   ],
   "source": [
    "#Creando mi primera lista\n",
    "lista = ['Conejo', 'Perro', 'Gato']\n",
    "print(lista)\n",
    "\n",
    "lista = ['Conejo', 'Perro', 'Gato', 10, True, 100.5]\n",
    "print(lista)\n"
   ]
  },
  {
   "cell_type": "code",
   "execution_count": 12,
   "metadata": {},
   "outputs": [
    {
     "name": "stdout",
     "output_type": "stream",
     "text": [
      "[1, 2, 3, 4, 5]\n",
      "3\n",
      "5\n"
     ]
    }
   ],
   "source": [
    "#TRABAJEMO CON LISTAS\n",
    "#          0 1 2 3 4\n",
    "miLista = [1,2,3,4,5]\n",
    "print(miLista)\n",
    "\n",
    "# Para acceder a sus elementos, se utiliza el [Índice] los índices comienzan en 0\n",
    "print(miLista[2])\n",
    "\n",
    "print(miLista[-1]) #Imprimir el último valor de la lista\n"
   ]
  },
  {
   "cell_type": "code",
   "execution_count": 14,
   "metadata": {},
   "outputs": [
    {
     "name": "stdout",
     "output_type": "stream",
     "text": [
      "1 2 3 4 5\n",
      "[1, 2, 3, 4, 5, 1, 2, 3, 4, 5]\n"
     ]
    }
   ],
   "source": [
    "#Usando la función print() y la función * para desempaquetar los elementos de la lista como argumentos\")\n",
    "print(*miLista)\n",
    "\n",
    "print(miLista * 2)\n"
   ]
  },
  {
   "cell_type": "code",
   "execution_count": 22,
   "metadata": {},
   "outputs": [
    {
     "name": "stdout",
     "output_type": "stream",
     "text": [
      "Bienvenido:  Fernanda\n",
      "-------------\n",
      "Bienvenido:  Adrian\n",
      "-------------\n",
      "Bienvenido:  Héctor\n",
      "-------------\n",
      "Bienvenido:  Andrés\n",
      "-------------\n",
      "Bienvenido:  Eric\n",
      "-------------\n"
     ]
    }
   ],
   "source": [
    "#Usando un bucle \"for\" para imprimir todos los elementos de la lista.  \n",
    "#              0          1          2        3         4\n",
    "miLista = ['Fernanda', 'Adrian', 'Héctor', 'Andrés', 'Eric']\n",
    "for elemento in miLista:\n",
    "    print(\"Bienvenido: \", elemento)\n",
    "    print('-------------')"
   ]
  },
  {
   "cell_type": "code",
   "execution_count": 2,
   "metadata": {},
   "outputs": [
    {
     "name": "stdout",
     "output_type": "stream",
     "text": [
      "Tamaño de la lista 6\n",
      "Tamaño de la lista 6\n"
     ]
    }
   ],
   "source": [
    "# Imprimir la cantidad elementos\n",
    "lista_numeros = [1,2,3,4,5,6]\n",
    "\n",
    "cantidad = len(lista_numeros)\n",
    "\n",
    "print(f\"Tamaño de la lista {len(lista_numeros)}\")\n",
    "print(f\"Tamaño de la lista {cantidad}\")"
   ]
  },
  {
   "cell_type": "markdown",
   "metadata": {},
   "source": [
    "## Métodos básicos y útiles en Listas \n",
    "\n",
    "### Agregar elementos a una lista en Python\n",
    "Existen dos métodos principales para agregar elementos a una lista en Python:\n",
    "\n",
    "1. append()\n",
    "2. insert()"
   ]
  },
  {
   "cell_type": "code",
   "execution_count": 5,
   "metadata": {},
   "outputs": [
    {
     "name": "stdout",
     "output_type": "stream",
     "text": [
      "['Outlook', 'Hotmail', 'Gmail', 'Yahoo']\n"
     ]
    }
   ],
   "source": [
    "#append(): Este método agrega un elemento al final de la lista\n",
    "#              0         1        2\n",
    "correos = [\"Outlook\",\"Hotmail\",\"Gmail\"]\n",
    "correos.append(\"Yahoo\")\n",
    "\n",
    "print(correos)"
   ]
  },
  {
   "cell_type": "code",
   "execution_count": 16,
   "metadata": {},
   "outputs": [
    {
     "name": "stdout",
     "output_type": "stream",
     "text": [
      "['Outlook', 'Proton Mail', 'Hotmail', 'Gmail', 'Yahoo']\n"
     ]
    }
   ],
   "source": [
    "#insert(): Este método agrega un elemento en una posición específica\n",
    "correos.insert(1,'Proton Mail')\n",
    "print(correos)"
   ]
  },
  {
   "cell_type": "markdown",
   "metadata": {},
   "source": [
    "### Agregar múltiples elementos a una lista"
   ]
  },
  {
   "cell_type": "code",
   "execution_count": 7,
   "metadata": {},
   "outputs": [
    {
     "name": "stdout",
     "output_type": "stream",
     "text": [
      "['Word', 'Excel', 'Power Point']\n",
      "['Word', 'Excel', 'Power Point', 'Acces', 'Visio', 'Skype']\n"
     ]
    }
   ],
   "source": [
    "# extend() Agrega los elementos de una lista iterable al final de la lista original\n",
    "paquete = ['Word','Excel','Power Point']\n",
    "adicional = ['Acces','Visio','Skype']\n",
    "\n",
    "print(paquete)\n",
    "paquete.extend(adicional)\n",
    "print(paquete)"
   ]
  },
  {
   "cell_type": "code",
   "execution_count": 8,
   "metadata": {},
   "outputs": [
    {
     "name": "stdout",
     "output_type": "stream",
     "text": [
      "['Word', 'Excel', 'Power Point', 'Acces', 'Visio', 'Skype']\n"
     ]
    }
   ],
   "source": [
    "paquete = ['Word','Excel','Power Point']\n",
    "adicional = ['Acces','Visio','Skype']\n",
    "\n",
    "paquete_pro = paquete + adicional\n",
    "print(paquete_pro)"
   ]
  },
  {
   "cell_type": "code",
   "execution_count": 10,
   "metadata": {},
   "outputs": [
    {
     "name": "stdout",
     "output_type": "stream",
     "text": [
      "[1, 2, 3, 1, 2, 3]\n",
      "[1, 2, 3, 1, 2, 3, 1, 2, 3, 1, 2, 3]\n"
     ]
    }
   ],
   "source": [
    "#Repitir listas utilizando operador de multiplicación (*)\n",
    "Lista1 = [1,2,3]\n",
    "\n",
    "lista_duplicada = Lista1 * 2\n",
    "print(lista_duplicada)\n",
    "\n",
    "print(2 * lista_duplicada)"
   ]
  },
  {
   "cell_type": "markdown",
   "metadata": {
    "vscode": {
     "languageId": "powershell"
    }
   },
   "source": [
    "## Métodos para eliminar elementos de una lista en Python"
   ]
  },
  {
   "cell_type": "code",
   "execution_count": 17,
   "metadata": {},
   "outputs": [
    {
     "name": "stdout",
     "output_type": "stream",
     "text": [
      "['Outlook', 'Proton Mail', 'Hotmail', 'Gmail', 'Yahoo']\n",
      "['Outlook', 'Hotmail', 'Gmail', 'Yahoo']\n"
     ]
    }
   ],
   "source": [
    "#remove(): Este método elimina el primer elemento de la lista que coincida\n",
    "print(correos)\n",
    "correos.remove('Proton Mail') #Coincidencia exacta\n",
    "print(correos)\n",
    "# correos.remove(correos[1]) eliminar por indice"
   ]
  },
  {
   "cell_type": "code",
   "execution_count": 22,
   "metadata": {},
   "outputs": [
    {
     "name": "stdout",
     "output_type": "stream",
     "text": [
      "['Outlook', 'Proton Mail', 'Proton Mail', 'Gmail', 'Yahoo']\n",
      "['Outlook', 'Proton Mail', 'Gmail', 'Yahoo']\n",
      "El elemento eliminado es:  Proton Mail\n"
     ]
    }
   ],
   "source": [
    "#pop(): Este método elimina y devuelve el elemento en una posición específica de la lista por medio del índice.\n",
    "correos.insert(1, 'Proton Mail')\n",
    "\n",
    "print(correos)\n",
    "eliminado = correos.pop(2)\n",
    "print(correos)\n",
    "print('El elemento eliminado es: ', eliminado)\n"
   ]
  },
  {
   "cell_type": "code",
   "execution_count": 24,
   "metadata": {},
   "outputs": [
    {
     "name": "stdout",
     "output_type": "stream",
     "text": [
      "['Outlook', 'Proton Mail', 'Gmail', 'Yahoo']\n",
      "['Outlook', 'Proton Mail', 'Yahoo']\n"
     ]
    }
   ],
   "source": [
    "#del Elimina elemento por índice\n",
    "print(correos)\n",
    "del (correos[2])\n",
    "\n",
    "print(correos)\n"
   ]
  },
  {
   "cell_type": "code",
   "execution_count": 26,
   "metadata": {},
   "outputs": [
    {
     "name": "stdout",
     "output_type": "stream",
     "text": [
      "['Outlook', 'Proton Mail', 'Yahoo']\n",
      "[]\n"
     ]
    }
   ],
   "source": [
    "#clear(): este métolo eliminar los elementos de una lista \n",
    "print(correos)\n",
    "correos.clear()\n",
    "print(correos)"
   ]
  },
  {
   "cell_type": "code",
   "execution_count": 28,
   "metadata": {},
   "outputs": [],
   "source": [
    "correos = [1,2]\n",
    "\n",
    "del correos\n",
    "\n",
    "correos = [1,2]\n",
    "\n",
    "correos = None"
   ]
  },
  {
   "cell_type": "markdown",
   "metadata": {},
   "source": [
    "# Tuplas\n",
    "\n",
    "Las **tuplas** son una de las estructuras de datos básicas en muchos lenguajes de programación, incluyendo Python. Son colecciones ordenadas y **inmutables** de elementos. Esto significa que una vez que se crea una tupla, no es posible modificar sus elementos (no se pueden añadir, eliminar, o cambiar valores).\n",
    "\n",
    "## Características de las Tuplas\n",
    "\n",
    "- **Ordenadas**: Los elementos en una tupla tienen un orden definido.\n",
    "- **Inmutables**: Una vez creada, la tupla no puede cambiar. Los elementos no pueden ser modificados, añadidos, o eliminados.\n",
    "- **Indexables**: Puedes acceder a los elementos de la tupla por su índice, siendo `0` el índice del primer elemento.\n",
    "- **Permiten duplicados**: Las tuplas pueden tener elementos duplicados.\n",
    "\n",
    "## Creación de Tuplas\n",
    "\n",
    "Para crear una tupla en Python, simplemente coloca los elementos dentro de paréntesis `()` y sepáralos con comas."
   ]
  },
  {
   "cell_type": "code",
   "execution_count": 29,
   "metadata": {},
   "outputs": [
    {
     "name": "stdout",
     "output_type": "stream",
     "text": [
      "2\n",
      "a\n"
     ]
    }
   ],
   "source": [
    "#Acceder a elementos de una tupla:\n",
    "tupla = (1,2,3,'a','b','c')\n",
    "\n",
    "print(tupla[1]) #2\n",
    "print(tupla[3]) #'a'"
   ]
  },
  {
   "cell_type": "code",
   "execution_count": null,
   "metadata": {},
   "outputs": [],
   "source": [
    "lista = (1,1,100.85,'Hola','2024/01/28')\n",
    "print(lista)"
   ]
  },
  {
   "cell_type": "code",
   "execution_count": 30,
   "metadata": {},
   "outputs": [
    {
     "name": "stdout",
     "output_type": "stream",
     "text": [
      "1\n",
      "2\n",
      "3\n",
      "a\n",
      "b\n",
      "c\n"
     ]
    }
   ],
   "source": [
    "#Utilizar una tupla en un ciclo for:\n",
    "tupla = (1,2,3,'a','b','c')\n",
    "for elemento in tupla:\n",
    "    print(elemento)"
   ]
  },
  {
   "cell_type": "code",
   "execution_count": 31,
   "metadata": {},
   "outputs": [
    {
     "name": "stdout",
     "output_type": "stream",
     "text": [
      "Pérez\n",
      "Pérez\n"
     ]
    }
   ],
   "source": [
    "#Asignar valores de una tupla a variables:\n",
    "tupla_persona = ('Juan','Pérez',25)\n",
    "nombre,apellido, edad = tupla_persona\n",
    "\n",
    "print(tupla_persona[1])\n",
    "print(apellido)"
   ]
  },
  {
   "cell_type": "code",
   "execution_count": 32,
   "metadata": {},
   "outputs": [
    {
     "name": "stdout",
     "output_type": "stream",
     "text": [
      "(1, 2, 3, 'a', 'b', 'c', 'Juan', 'Pérez', 25)\n"
     ]
    }
   ],
   "source": [
    "#Concatenar dos tuplas:\n",
    "nueva_tupla = tupla + tupla_persona\n",
    "print(tupla + tupla_persona)"
   ]
  },
  {
   "cell_type": "code",
   "execution_count": null,
   "metadata": {},
   "outputs": [],
   "source": [
    "tupla."
   ]
  },
  {
   "cell_type": "code",
   "execution_count": 33,
   "metadata": {},
   "outputs": [
    {
     "name": "stdout",
     "output_type": "stream",
     "text": [
      "Bienvenido Juan\n"
     ]
    }
   ],
   "source": [
    "#Comprobar si un elemento está en una tupla: Se puede usar el operador in para verificar si un elemento está presente en una tupla.\n",
    "tupla_persona = ('Juan', 'Pérez', 25)\n",
    "\n",
    "if 'Juan' in tupla_persona:\n",
    "    print('Bienvenido Juan')"
   ]
  },
  {
   "cell_type": "markdown",
   "metadata": {},
   "source": [
    "### Funciones útiles:\n",
    "\n",
    "- **len(tupla)**: Devuelve la longitud de la tupla.\n",
    "- **max(tupla)**: Devuelve el elemento máximo de la tupla.\n",
    "- **min(tupla)**: Devuelve el elemento mínimo de la tupla.\n",
    "\n",
    "### Cuándo usar tuplas:\n",
    "\n",
    "Las tuplas son una buena opción para almacenar datos que no van a cambiar, como:\n",
    "\n",
    "- Coordenadas en un mapa.\n",
    "- Fechas y horas.\n",
    "- Pares clave-valor en un diccionario."
   ]
  },
  {
   "cell_type": "code",
   "execution_count": 34,
   "metadata": {},
   "outputs": [
    {
     "name": "stdout",
     "output_type": "stream",
     "text": [
      "(1, 2, 3, 2, 'a', 'b', 'c')\n",
      "1\n",
      "2\n"
     ]
    }
   ],
   "source": [
    "tupla = (1,2,3,2,'a','b','c')\n",
    "print(tupla)\n",
    "print(tupla[0])\n",
    "print(tupla[3])"
   ]
  },
  {
   "cell_type": "code",
   "execution_count": 36,
   "metadata": {},
   "outputs": [
    {
     "name": "stdout",
     "output_type": "stream",
     "text": [
      "Posición:  5\n"
     ]
    }
   ],
   "source": [
    "posicion = tupla.index('b')\n",
    "print(\"Posición: \", posicion)"
   ]
  },
  {
   "cell_type": "code",
   "execution_count": 37,
   "metadata": {},
   "outputs": [
    {
     "name": "stdout",
     "output_type": "stream",
     "text": [
      "Cantida de repeticiones de dos:  2\n"
     ]
    }
   ],
   "source": [
    "numDos = tupla.count(2)\n",
    "print(\"Cantida de repeticiones de dos: \", numDos)"
   ]
  },
  {
   "cell_type": "code",
   "execution_count": 38,
   "metadata": {},
   "outputs": [
    {
     "name": "stdout",
     "output_type": "stream",
     "text": [
      "1\n",
      "2\n",
      "3\n",
      "2\n",
      "a\n",
      "b\n",
      "c\n"
     ]
    }
   ],
   "source": [
    "#Utilizar una tupla en un ciclo for:\n",
    "#Utilizar una tupla en un ciclo for:\n",
    "for elemento in tupla:\n",
    "    print(elemento)"
   ]
  },
  {
   "cell_type": "code",
   "execution_count": 39,
   "metadata": {},
   "outputs": [
    {
     "name": "stdout",
     "output_type": "stream",
     "text": [
      "Luis\n",
      "Ferreto\n",
      "32\n"
     ]
    }
   ],
   "source": [
    "#Asignar valores de una tupla a variables:\n",
    "tupla = (\"Luis\", \"Ferreto\", 32)\n",
    "Nombre,Apellido,edad = tupla\n",
    "print(Nombre)\n",
    "print(Apellido)\n",
    "print(edad)"
   ]
  },
  {
   "cell_type": "code",
   "execution_count": null,
   "metadata": {},
   "outputs": [],
   "source": [
    "#Concatenar dos tuplas\n",
    "Tupla1 = (1,2,3)\n",
    "Tupla2 = (4,5,6)\n",
    "Tupla3 = Tupla1 + Tupla2\n",
    "print(Tupla3)"
   ]
  },
  {
   "cell_type": "markdown",
   "metadata": {},
   "source": [
    "\n",
    "## **Creación de diccionarios:**\n",
    "Los diccionarios son colecciones no ordenadas que almacenan pares\n",
    "clave-valor en Python. Son una herramienta poderosa para almacenar y\n",
    "acceder a datos de una manera eficiente.\n",
    "\n",
    "Los diccionarios se pueden crear de varias maneras:\n",
    "\n",
    "-   **Usando llaves **{}** con pares clave-valor separados por dos\n",
    "    puntos:**\n",
    "\n",
    "```Python"
   ]
  },
  {
   "cell_type": "code",
   "execution_count": 42,
   "metadata": {},
   "outputs": [
    {
     "name": "stdout",
     "output_type": "stream",
     "text": [
      "Fiorella\n",
      "<class 'float'>\n",
      "98.4\n"
     ]
    }
   ],
   "source": [
    "#Crear un diccionario\n",
    "estudiante = {\n",
    "    'nombre' : 'Fiorella',\n",
    "    'apellido' : 'Chavarría',\n",
    "    'edad' : 21,\n",
    "    'nota' : 88.40\n",
    "}\n",
    "\n",
    "print(estudiante['nombre']) # Imprime Fiorella\n",
    "\n",
    "print(type(estudiante['nota']))\n",
    "\n",
    "#Modificar valor en un diccionario\n",
    "estudiante['nota'] = 98.40\n",
    "print(estudiante['nota'])\n"
   ]
  },
  {
   "cell_type": "code",
   "execution_count": 44,
   "metadata": {},
   "outputs": [
    {
     "name": "stdout",
     "output_type": "stream",
     "text": [
      "{'nombre': 'Fiorella', 'apellido': 'Chavarría', 'edad': 21, 'nota': 98.4, 'altura': 1.7, 'estado civil': 'Soltera'}\n"
     ]
    }
   ],
   "source": [
    "#Agregar nuevos pares clave-valor a un diccionario\n",
    "estudiante['altura'] = 1.70\n",
    "estudiante['estado civil'] = 'Soltera'\n",
    "print(estudiante)"
   ]
  },
  {
   "cell_type": "code",
   "execution_count": 48,
   "metadata": {},
   "outputs": [
    {
     "name": "stdout",
     "output_type": "stream",
     "text": [
      "Clave: nombre, valor: Fiorella\n",
      "Clave: apellido, valor: Chavarría\n",
      "Clave: edad, valor: 21\n",
      "Clave: nota, valor: 98.4\n",
      "Clave: altura, valor: 1.7\n",
      "Clave: estado civil, valor: Soltera\n"
     ]
    }
   ],
   "source": [
    "#Recorriendo Claves y valores en For\n",
    "\n",
    "for clave,valor in estudiante.items():\n",
    "    print(f'Clave: {clave}, valor: {valor}')"
   ]
  },
  {
   "cell_type": "code",
   "execution_count": 49,
   "metadata": {},
   "outputs": [
    {
     "name": "stdout",
     "output_type": "stream",
     "text": [
      "{'nombre': 'Fiorella', 'apellido': 'Chavarría', 'edad': 21, 'nota': 98.4, 'altura': 1.7}\n"
     ]
    }
   ],
   "source": [
    "#Eliminar elementos del diccionario\n",
    "del estudiante['estado civil']\n",
    "print(estudiante)"
   ]
  },
  {
   "cell_type": "code",
   "execution_count": null,
   "metadata": {},
   "outputs": [],
   "source": [
    "estudiante.clear() #Limpia claves y valores\n",
    "del estudiante # Elimina de memoria\n",
    "estudiante.pop[1] #Elimina de índice"
   ]
  },
  {
   "cell_type": "code",
   "execution_count": 51,
   "metadata": {},
   "outputs": [
    {
     "name": "stdout",
     "output_type": "stream",
     "text": [
      "True\n",
      "False\n"
     ]
    }
   ],
   "source": [
    "#Comprobar si una clave existe en el diccionario\n",
    "print('nombre' in estudiante)\n",
    "print('estado_civil' in estudiante)\n"
   ]
  },
  {
   "cell_type": "code",
   "execution_count": null,
   "metadata": {},
   "outputs": [],
   "source": [
    "#Zip(). Esta función toma dos o más listas y devuelve un \n",
    "# objeto iterable que contiene tuplas con los elementos\n",
    "# correspondientes de cada lista.\n",
    "\n",
    "\n"
   ]
  }
 ],
 "metadata": {
  "kernelspec": {
   "display_name": "Python 3",
   "language": "python",
   "name": "python3"
  },
  "language_info": {
   "codemirror_mode": {
    "name": "ipython",
    "version": 3
   },
   "file_extension": ".py",
   "mimetype": "text/x-python",
   "name": "python",
   "nbconvert_exporter": "python",
   "pygments_lexer": "ipython3",
   "version": "3.13.1"
  }
 },
 "nbformat": 4,
 "nbformat_minor": 2
}
