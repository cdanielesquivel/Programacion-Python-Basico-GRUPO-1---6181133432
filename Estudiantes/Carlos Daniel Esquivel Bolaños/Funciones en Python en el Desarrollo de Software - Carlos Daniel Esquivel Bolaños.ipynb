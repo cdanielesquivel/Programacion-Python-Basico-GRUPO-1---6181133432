{
 "cells": [
  {
   "cell_type": "markdown",
   "metadata": {},
   "source": [
    "# Curso: Programación Python Básico \n",
    "# Investigación: Funciones en Python en el Desarrollo de Software\n",
    "# Nombre del estudiante: Carlos Daniel Esquivel Bolaños\n",
    "\n",
    "## Sección 1: Introducción\n",
    "\n",
    "El propósito de este notebook es mostrar como influyen las funciones en Python en la modularización y eficiencia de programas en desarrollo de software, ya que las funciones en Python son una herramienta esencial en la programación estructurada y funcional. \n",
    "\n",
    "El uso correcto de las funciones de Python permite mejorar la reutilización del código, modularización y escalabilidad de los programas, y en este notebook se mostrará las mejoras practicas para su implementación e impacto en la eficiencia del código.\n",
    "\n",
    "En Python, las funciones son instrumentos eficaces que permiten escribir códigos modulares para conservar su claridad para que esté bien organizado, esto permite a los programadores a elaborar programas eficientes y fáciles de comprender. Debido a esto, es importante comprender como trabajan estas funciones y como saber implementarlas.\n"
   ]
  },
  {
   "cell_type": "markdown",
   "metadata": {},
   "source": [
    "## Sección 2: Investigación  y ejemplos\n",
    "A continuación, se documentó la investigación referente a los temas: Definición y Propósito de las Funciones en Python, Tipos de Funciones en Python y Aplicación de Funciones en Problemas Reales, cada uno con subtemas que se ampliarán en cada uno de estos.\n"
   ]
  },
  {
   "cell_type": "markdown",
   "metadata": {},
   "source": [
    "## Sección 2.1: Definición y Propósito de las Funciones en Python"
   ]
  },
  {
   "cell_type": "markdown",
   "metadata": {},
   "source": [
    "### Sección 2.1.1 ¿Qué son las funciones?\n",
    "\n",
    "En Python, las funciones son bloques de instrucciones que lo que hacen es devolver una tarea específica, el propósito es juntar algunas tareas que se realizan habitual o repetidamente para crear una función que evite escribir la misma instrucción varias veces para ingresar distintas entradas."
   ]
  },
  {
   "cell_type": "code",
   "execution_count": null,
   "metadata": {},
   "outputs": [],
   "source": [
    "# Definición de una función simple en Python\n",
    "def saludar(nombre):\n",
    "    return f\"¡Hola, {nombre}!\"\n",
    "\n",
    "# Llamada a la función\n",
    "print(saludar(\"Carlos\"))"
   ]
  },
  {
   "cell_type": "markdown",
   "metadata": {},
   "source": [
    "### Sección 2.1.2 Beneficios de modularizar código con funciones.\n",
    "\n",
    "Modularizar significa crear primero varios módulos para luego vincularlos y combinarlos para formar un sistema completo, en otras palabras es cuando un programa se puede dividir en módulos más pequeños. Esto trae como beneficio que permite la reutilización del código para minimizar su duplicación, y es lo que se aplica en la programación orientada a objetos."
   ]
  },
  {
   "cell_type": "code",
   "execution_count": null,
   "metadata": {},
   "outputs": [],
   "source": [
    "# Función que calcula el área de un círculo\n",
    "import math\n",
    "\n",
    "def area_circulo(radio):\n",
    "    return math.pi * radio ** 2\n",
    "\n",
    "# Función que calcula el área de un rectángulo\n",
    "def area_rectangulo(base, altura):\n",
    "    return base * altura\n",
    "\n",
    "# Usando las funciones para calcular áreas\n",
    "print(area_circulo(5))\n",
    "print(area_rectangulo(4, 6))"
   ]
  },
  {
   "cell_type": "markdown",
   "metadata": {},
   "source": [
    "### Sección 2.1.3 Importancia de la reutilización del código.\n",
    "\n",
    "Similar a los beneficios de la modularidad, cuando se crea un código se puede convertir algunas partes de él en una biblioteca para que cualquier otro programador pueda utilizarlos para referencias en el futuro. Esto evitará que si por ejemplo, el programador diseñó un código tal vez más complejo y revisa estas bibliotecas y se encuentre con el mismo código pero más sencillo, le quedará como base para cuando quiera realizar algo similar."
   ]
  },
  {
   "cell_type": "code",
   "execution_count": null,
   "metadata": {},
   "outputs": [],
   "source": [
    "# Función para calcular el promedio de una lista de números\n",
    "def calcular_promedio(lista):\n",
    "    return sum(lista) / len(lista)\n",
    "\n",
    "# Reutilizando la función para calcular promedios de diferentes listas\n",
    "print(calcular_promedio([10, 20, 30, 40]))\n",
    "print(calcular_promedio([5, 15, 25]))"
   ]
  },
  {
   "cell_type": "markdown",
   "metadata": {},
   "source": [
    "## Sección 2.2: Tipos de Funciones en Python"
   ]
  },
  {
   "cell_type": "markdown",
   "metadata": {},
   "source": [
    "### Sección 2.2.1: Funciones con y sin retorno.\n",
    "\n",
    "Una función con retorno (return()) es utilizada cuando se quiere salir de una función y regresar al que invocó dicha función para devolver el valor o elemento algún dato o datos en específico, ya sea variables, expresiones o constantes que se devuelven al final de la ejecición, o de lo contrario, retorna un None.\n",
    "\n",
    "Las funciones sin retorno simplemente dan una salida con cualquier otra función que no sea el retun(), o usando el return() sin valor."
   ]
  },
  {
   "cell_type": "code",
   "execution_count": null,
   "metadata": {},
   "outputs": [],
   "source": [
    "# Función con retorno\n",
    "def suma(a, b):\n",
    "    return a + b\n",
    "\n",
    "# Función sin retorno\n",
    "def saludar(nombre):\n",
    "    print(f\"Hola, {nombre}\")\n",
    "\n",
    "# Llamadas a las funciones\n",
    "saludar(\"Carlos\")\n",
    "resultado = suma(3, 5)\n",
    "print(f\"Resultado de la suma: {resultado}\")"
   ]
  },
  {
   "cell_type": "markdown",
   "metadata": {},
   "source": [
    "### Sección 2.2.2: Funciones con parámetros y valores predeterminados.\n",
    "\n",
    "Parámetros se define como las variables determinadas en la declaración de una función, operando como marcadores de posición para los valores (argumentos) que se trasladarán a la función.\n",
    "\n",
    "Precisamente los argunemtos son estos valores reales que se pasan a la función cuando se llama y reemplazan los parámetros definidos en la función.\n",
    "\n",
    "Un valor predeterminado es un parámetro que se asume de un valor predeterminado si no se proporciona algún valor cuando se llama la función."
   ]
  },
  {
   "cell_type": "code",
   "execution_count": null,
   "metadata": {},
   "outputs": [],
   "source": [
    "def saludo(nombre=\"Mundo\"):\n",
    "    print(f\"Hola, {nombre}!\")\n",
    "\n",
    "saludo()  # Usando el valor predeterminado\n",
    "saludo(\"Ana\")  # Usando un valor personalizado"
   ]
  },
  {
   "cell_type": "markdown",
   "metadata": {},
   "source": [
    "### Sección 2.2.3: Uso de *args y **kwargs.\n",
    "\n",
    "Conocidas también como claves arbitrarias, estas pueden pasar, mediante símbolos especiales, una cantidad variable de argumentos a una función.\n",
    "\n",
    "- *args son argumentos que no son palabras claves\n",
    "- **kwargs son argumentos con palabras clave"
   ]
  },
  {
   "cell_type": "code",
   "execution_count": null,
   "metadata": {},
   "outputs": [],
   "source": [
    "# Uso de *args (argumentos no nombrados)\n",
    "def mostrar_numeros(*args):\n",
    "    for numero in args:\n",
    "        print(numero)\n",
    "\n",
    "mostrar_numeros(1, 2, 3, 4)\n",
    "\n",
    "# Uso de **kwargs (argumentos nombrados)\n",
    "def mostrar_info(**kwargs):\n",
    "    for clave, valor in kwargs.items():\n",
    "        print(f\"{clave}: {valor}\")\n",
    "\n",
    "mostrar_info(nombre=\"Carlos\", edad=30)"
   ]
  },
  {
   "cell_type": "markdown",
   "metadata": {},
   "source": [
    "### Sección 2.2.4: Funciones anónimas (lambda).\n",
    "\n",
    "Son funciones que no tiene nombre y se utiliza esta palabra clave (lambda) para definirla. Poporcionan una forma concisa de crear funciones pequeñas sin necesidad de definirlas con la función def. Son útiles en cuando se necesita una función temporal o en funciones que son sencillas de definir en una sola línea.\n"
   ]
  },
  {
   "cell_type": "code",
   "execution_count": null,
   "metadata": {},
   "outputs": [],
   "source": [
    "# Función lambda para sumar dos números\n",
    "suma = lambda a, b: a + b\n",
    "print(suma(5, 10))"
   ]
  },
  {
   "cell_type": "markdown",
   "metadata": {},
   "source": [
    "### Sección 2.2.5: Funciones recursivas.\n",
    "\n",
    "Son funciones que resuelven un problema con instancias más pequeñas del mismo problema, es decir, el problema se divide en subproblemas mas simples y similares para llegar a su resolución final."
   ]
  },
  {
   "cell_type": "code",
   "execution_count": null,
   "metadata": {},
   "outputs": [],
   "source": [
    "def factorial(n):\n",
    "    if n == 1:\n",
    "        return 1\n",
    "    else:\n",
    "        return n * factorial(n - 1)\n",
    "\n",
    "print(factorial(5))  # Resultado: 120"
   ]
  },
  {
   "cell_type": "markdown",
   "metadata": {},
   "source": [
    "### Sección 2.2.6: Generadores (yield).\n",
    "\n",
    "Estas funciones devuelven un objeto iterador, utiliza el yield en lugar de return para devolver una serie de resultados a lo largo del tiempo, en lugar de un único valor. Se generan valores y hace pausas entre cada yield para mantener su estado entre las iteraciones."
   ]
  },
  {
   "cell_type": "code",
   "execution_count": null,
   "metadata": {},
   "outputs": [],
   "source": [
    "def contar_hasta_n(n):\n",
    "    contador = 1\n",
    "    while contador <= n:\n",
    "        yield contador\n",
    "        contador += 1\n",
    "\n",
    "# Usando el generador\n",
    "for numero in contar_hasta_n(5):\n",
    "    print(numero)"
   ]
  },
  {
   "cell_type": "markdown",
   "metadata": {},
   "source": [
    "### Sección 2.2.7: Closures y decoradores.\n",
    "\n",
    "Los closures son funciones que recuerdan el entorno donde fuerno creados, capturan y retienen el valor de las variables en su funcion externa, incluso cuando ya se haya ejecutado.\n",
    "\n",
    "Los decoradoes permiten modificar o ampliar el comportamiento de funciones o métodos sin cambiar su código real, es básicamente una función que toma a otra función como argumetno y devuelve una nueva función mejorada."
   ]
  },
  {
   "cell_type": "code",
   "execution_count": null,
   "metadata": {},
   "outputs": [],
   "source": [
    "# Closure\n",
    "def multiplicar_por(x):\n",
    "    def multiplicacion(y):\n",
    "        return x * y\n",
    "    return multiplicacion\n",
    "\n",
    "doblar = multiplicar_por(2)\n",
    "print(doblar(5))  # Resultado: 10\n",
    "\n",
    "# Decorador\n",
    "def decorador(func):\n",
    "    def wrapper():\n",
    "        print(\"Antes de la función\")\n",
    "        func()\n",
    "        print(\"Después de la función\")\n",
    "    return wrapper\n",
    "\n",
    "@decorador\n",
    "def decir_hola():\n",
    "    print(\"Hola Mundo\")\n",
    "\n",
    "decir_hola()"
   ]
  },
  {
   "cell_type": "markdown",
   "metadata": {},
   "source": [
    "## Sección 2.3: Aplicación de Funciones en Problemas Reales"
   ]
  },
  {
   "cell_type": "markdown",
   "metadata": {},
   "source": [
    "### Sección 2.3.1: Aplicación en estructuras de datos (listas, diccionarios)."
   ]
  },
  {
   "cell_type": "code",
   "execution_count": null,
   "metadata": {},
   "outputs": [],
   "source": [
    "# Uso de funciones para manipular listas y diccionarios\n",
    "def procesar_lista(lista):\n",
    "    return [x**2 for x in lista]\n",
    "\n",
    "def obtener_edad(diccionario, nombre):\n",
    "    return diccionario.get(nombre, \"No encontrado\")\n",
    "\n",
    "# Ejemplo con lista\n",
    "lista = [1, 2, 3, 4]\n",
    "print(procesar_lista(lista))  # Resultado: [1, 4, 9, 16]\n",
    "\n",
    "# Ejemplo con diccionario\n",
    "personas = {\"Carlos\": 25, \"Ana\": 30}\n",
    "print(obtener_edad(personas, \"Carlos\"))  # Resultado: 25"
   ]
  },
  {
   "cell_type": "markdown",
   "metadata": {},
   "source": [
    "### Sección 2.3.2: Uso de funciones en procesamiento de datos."
   ]
  },
  {
   "cell_type": "code",
   "execution_count": null,
   "metadata": {},
   "outputs": [],
   "source": [
    "# Función para leer un archivo y contar las palabras\n",
    "def contar_palabras_archivo(archivo):\n",
    "    with open(archivo, 'r') as f:\n",
    "        contenido = f.read()\n",
    "    palabras = contenido.split()\n",
    "    return len(palabras)\n",
    "\n",
    "# Ejemplo con procesamiento de datos de un archivo\n",
    "archivo = \"texto.txt\"  # Suponiendo que el archivo contiene texto\n",
    "print(contar_palabras_archivo(archivo))"
   ]
  },
  {
   "cell_type": "markdown",
   "metadata": {},
   "source": [
    "### Sección 2.3.3: Optimización del rendimiento con funciones."
   ]
  },
  {
   "cell_type": "code",
   "execution_count": null,
   "metadata": {},
   "outputs": [],
   "source": [
    "# Uso de la función sum() en lugar de hacer un bucle manual\n",
    "import time\n",
    "\n",
    "# Uso de bucles manuales\n",
    "def suma_manual(numeros):\n",
    "    total = 0\n",
    "    for numero in numeros:\n",
    "        total += numero\n",
    "    return total\n",
    "\n",
    "# Uso de la función sum()\n",
    "def suma_optimizada(numeros):\n",
    "    return sum(numeros)\n",
    "\n",
    "# Ejemplo con tiempo\n",
    "numeros = [x for x in range(1000000)]\n",
    "inicio = time.time()\n",
    "suma_manual(numeros)\n",
    "fin = time.time()\n",
    "print(f\"Tiempo con suma manual: {fin - inicio} segundos\")\n",
    "\n",
    "inicio = time.time()\n",
    "suma_optimizada(numeros)\n",
    "fin = time.time()\n",
    "print(f\"Tiempo con suma optimizada: {fin - inicio} segundos\")\n"
   ]
  },
  {
   "cell_type": "markdown",
   "metadata": {},
   "source": [
    "### Sección 2.3.4: Comparación entre funciones definidas por el usuario y funciones integradas (len(), sum(), etc.)."
   ]
  },
  {
   "cell_type": "code",
   "execution_count": null,
   "metadata": {},
   "outputs": [],
   "source": [
    "# Función personalizada para calcular la longitud de una lista\n",
    "def longitud_lista(lista):\n",
    "    count = 0\n",
    "    for _ in lista:\n",
    "        count += 1\n",
    "    return count\n",
    "\n",
    "# Ejemplo comparando `len()` y la función personalizada\n",
    "lista = [1, 2, 3, 4, 5]\n",
    "print(f\"Longitud con len(): {len(lista)}\")  # Función integrada\n",
    "print(f\"Longitud con función personalizada: {longitud_lista(lista)}\")\n",
    "\n",
    "# Comparación de `sum()` con una función personalizada\n",
    "def suma_personalizada(lista):\n",
    "    total = 0\n",
    "    for num in lista:\n",
    "        total += num\n",
    "    return total\n",
    "\n",
    "print(f\"Suma con sum(): {sum(lista)}\")  # Función integrada\n",
    "print(f\"Suma con función personalizada: {suma_personalizada(lista)}\")\n"
   ]
  },
  {
   "cell_type": "markdown",
   "metadata": {},
   "source": [
    "## Sección 3: Conclusiones\n",
    "\n",
    "\n",
    "### Referencias\n",
    "- https://keepcoding.io/blog/que-son-las-funciones-en-python/?utm_source=chatgpt.com\n",
    "- https://www.geeksforgeeks.org/python-functions/?ref=gcse_outind\n",
    "- https://www.geeksforgeeks.org/understanding-code-reuse-modularity-python-3/?ref=gcse_outind\n",
    "- https://www.geeksforgeeks.org/python-functions/\n",
    "- https://www.geeksforgeeks.org/deep-dive-into-parameters-and-arguments-in-python/\n",
    "- https://www.geeksforgeeks.org/python-lambda-anonymous-functions-filter-map-reduce/?ref=header_outind\n",
    "- https://www.geeksforgeeks.org/recursive-functions/\n",
    "- https://www.geeksforgeeks.org/generators-in-python/?ref=header_outind\n",
    "- \n",
    "- "
   ]
  }
 ],
 "metadata": {
  "language_info": {
   "name": "python"
  }
 },
 "nbformat": 4,
 "nbformat_minor": 2
}
